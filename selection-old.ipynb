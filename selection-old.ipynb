{
 "cells": [
  {
   "cell_type": "markdown",
   "metadata": {},
   "source": [
    "# Cohort 4 Team Selection Guidance\n",
    "\n",
    "This notebook presents the results of the Capstone Project Interest Survey and our suggested team groupings."
   ]
  },
  {
   "cell_type": "code",
   "execution_count": 33,
   "metadata": {
    "collapsed": true
   },
   "outputs": [],
   "source": [
    "import os\n",
    "import csv\n",
    "import random\n",
    "\n",
    "from itertools import groupby\n",
    "from operator import itemgetter\n",
    "from collections import Counter, defaultdict"
   ]
  },
  {
   "cell_type": "code",
   "execution_count": 3,
   "metadata": {
    "collapsed": false
   },
   "outputs": [],
   "source": [
    "FIXTURES    = os.path.join(os.getcwd(), 'fixtures')\n",
    "PREFERENCES = os.path.join(FIXTURES, 'cohort4-preferences.csv')"
   ]
  },
  {
   "cell_type": "code",
   "execution_count": 5,
   "metadata": {
    "collapsed": true
   },
   "outputs": [],
   "source": [
    "def read_data(prefs=PREFERENCES):\n",
    "    with open(prefs, 'r') as f:\n",
    "        reader = csv.DictReader(f)\n",
    "        for row in reader:\n",
    "            yield row"
   ]
  },
  {
   "cell_type": "code",
   "execution_count": 6,
   "metadata": {
    "collapsed": false
   },
   "outputs": [
    {
     "name": "stdout",
     "output_type": "stream",
     "text": [
      "1: 4 members\n",
      "2: 5 members\n",
      "3: 5 members\n",
      "4: 4 members\n",
      "5: 5 members\n",
      "6: 4 members\n",
      "7: 5 members\n"
     ]
    }
   ],
   "source": [
    "# Extract team groups from CSV\n",
    "teams = dict([\n",
    "    (int(team), list(group)) for team, group \n",
    "    in groupby(read_data(), key=itemgetter('Team'))\n",
    "])\n",
    "\n",
    "# Print team member counts\n",
    "for team, prefs in teams.items():\n",
    "    print \"{}: {} members\".format(team, len(prefs))"
   ]
  },
  {
   "cell_type": "code",
   "execution_count": 18,
   "metadata": {
    "collapsed": true
   },
   "outputs": [],
   "source": [
    "def extract_csv_field(teams, field):\n",
    "    counts = defaultdict(Counter)\n",
    " \n",
    "    # Loop over all teams\n",
    "    for team, prefs in teams.items():\n",
    "    \n",
    "        # Loop over all member preferences\n",
    "        for pref in prefs:\n",
    "            \n",
    "            # Skip no preference\n",
    "            if field not in pref: continue\n",
    "            \n",
    "            # Count all comma separated prefs\n",
    "            for val in pref[field].split(','):\n",
    "                val = val.strip()\n",
    "                counts[team][val] += 1\n",
    "    \n",
    "    return counts\n",
    "\n",
    "\n",
    "def print_multi_prefs(counts, title=\"Preference\"):\n",
    "    title = \"Team {} Counts\".format(title)\n",
    "    print title\n",
    "    print \"-\"*len(title)\n",
    "    \n",
    "    for team, prefs in counts.items():\n",
    "        print \"Team {}:\".format(team)\n",
    "        for item in prefs.most_common():\n",
    "            if not item[0]: continue\n",
    "            print \"    {}: {}\".format(*item)\n",
    "        print\n",
    "    print"
   ]
  },
  {
   "cell_type": "code",
   "execution_count": 32,
   "metadata": {
    "collapsed": false
   },
   "outputs": [],
   "source": [
    "domains  = extract_csv_field(teams, 'Domains')\n",
    "projects = extract_csv_field(teams, 'Project Types')\n",
    "\n",
    "# print_multi_prefs(domains, title=\"Domain Preference\")\n",
    "# print_multi_prefs(projects, title=\"Project Type Preference\")"
   ]
  },
  {
   "cell_type": "markdown",
   "metadata": {},
   "source": [
    "## Team Selection Reports"
   ]
  },
  {
   "cell_type": "code",
   "execution_count": 52,
   "metadata": {
    "collapsed": false
   },
   "outputs": [],
   "source": [
    "def select_coordinator(teamno, teams=teams):\n",
    "    \"\"\"\n",
    "    From the people who selected yes to being coordinator, choose random.\n",
    "    \"\"\"\n",
    "    # Filter out people who didn't say yes to coordinator role.\n",
    "    coords = filter(\n",
    "        lambda p: p['Coordinator'].lower() == 'yes', \n",
    "        teams[teamno]\n",
    "    )\n",
    "    \n",
    "    return random.choice(coords)['Name']\n",
    "\n",
    "\n",
    "def mean_level(teamno, field, teams=teams):\n",
    "    \"\"\"\n",
    "    Compute the mean level from the survey.\n",
    "    \"\"\"\n",
    "    levels = [\n",
    "        float(pref[field]) if pref[field] else 0.0\n",
    "        for pref in teams[teamno]\n",
    "    ]\n",
    "    \n",
    "    return sum(levels) / len(levels)\n",
    "    \n",
    "\n",
    "def print_report(teamno, teams=teams, domains=domains, projects=projects):\n",
    "    # Create output structure\n",
    "    output = []\n",
    "    \n",
    "    # Create Title Header\n",
    "    title = \"Team {} Selection Report\".format(teamno)\n",
    "    output.append(title)\n",
    "    output.append(\"-\"*len(title))\n",
    "    output.append(\"\")\n",
    "    \n",
    "    # Print out averages\n",
    "    output.append(\n",
    "        \"  * Coordinator: {}\".format(select_coordinator(teamno))\n",
    "    )\n",
    "    output.append(\"\")\n",
    "    output.append(\n",
    "        \"  * Mean Python Level: {}\".format(\n",
    "            mean_level(teamno, 'Python')\n",
    "        )\n",
    "    )\n",
    "    output.append(\n",
    "        \"  * Mean R Level: {}\".format(\n",
    "            mean_level(teamno, 'R')\n",
    "        )\n",
    "    )\n",
    "    output.append(\n",
    "        \"  * Mean CLI Level: {}\".format(\n",
    "            mean_level(teamno, 'Terminal')\n",
    "        )\n",
    "    )\n",
    "    output.append(\n",
    "        \"  * Mean Project Level: {}\".format(\n",
    "            mean_level(teamno, 'Project Level')\n",
    "        )\n",
    "    )\n",
    "    output.append(\"\")\n",
    "    \n",
    "    # Print out member names\n",
    "    output.append(\"  - Members:\")\n",
    "    output.extend([\n",
    "        \"    + {}\".format(pref['Name']) \n",
    "        for pref in teams[teamno]\n",
    "    ])\n",
    "    output.append(\"\")\n",
    "    \n",
    "    # Print out domain preferences\n",
    "    output.append(\"  - Domains:\")\n",
    "    output.extend([\n",
    "        \"    + {}: {}\".format(*prefs) \n",
    "        for prefs in domains[teamno].most_common()\n",
    "    ])\n",
    "    output.append(\"\")\n",
    "    \n",
    "    # Print out project preferences\n",
    "    output.append(\"  - Project Types:\")\n",
    "    output.extend([\n",
    "        \"    + {}: {}\".format(*prefs) \n",
    "        for prefs in projects[teamno].most_common()\n",
    "    ])\n",
    "    output.append(\"\")\n",
    "    \n",
    "    # Return report string\n",
    "    return \"\\n\".join(output)"
   ]
  },
  {
   "cell_type": "code",
   "execution_count": 44,
   "metadata": {
    "collapsed": false
   },
   "outputs": [
    {
     "name": "stdout",
     "output_type": "stream",
     "text": [
      "Team 1 Selection Report\n",
      "-----------------------\n",
      "\n",
      "  * Coordinator: Madeline Tomchick\n",
      "\n",
      "  * Mean Python Level: 1.75\n",
      "  * Mean R Level: 3.25\n",
      "  * Mean CLI Level: 2.75\n",
      "  * Mean Project Level: 2.5\n",
      "\n",
      "  - Members:\n",
      "    + Madeline Tomchick\n",
      "    + Andy Pollack\n",
      "    + Mcihal\n",
      "    + Nicholas Colucci\n",
      "\n",
      "  - Domains:\n",
      "    + Security: 4\n",
      "    + Government/Social Data: 3\n",
      "    + Retail/Industry: 2\n",
      "    + Finance/Banking: 2\n",
      "    + Health Care/Medicine: 1\n",
      "    + Education: 1\n",
      "    + Sports: 1\n",
      "\n",
      "  - Project Types:\n",
      "    + Statistical Modeling for Forecasting: 4\n",
      "    + Text Analysis/Natural Language Processing: 4\n",
      "    + Network Analysis: 3\n",
      "    + Visualization/Visual Analytics: 3\n",
      "    + Time Series Analysis: 2\n",
      "    + Regression Analysis: 2\n",
      "    + Clustering or Classification: 1\n",
      "    + Rule/Association Mining: 1\n",
      "\n"
     ]
    }
   ],
   "source": [
    "print print_report(1)"
   ]
  },
  {
   "cell_type": "code",
   "execution_count": 45,
   "metadata": {
    "collapsed": false
   },
   "outputs": [
    {
     "name": "stdout",
     "output_type": "stream",
     "text": [
      "Team 2 Selection Report\n",
      "-----------------------\n",
      "\n",
      "  * Coordinator: Jessi\n",
      "\n",
      "  * Mean Python Level: 2.2\n",
      "  * Mean R Level: 0.8\n",
      "  * Mean CLI Level: 4.4\n",
      "  * Mean Project Level: 3.0\n",
      "\n",
      "  - Members:\n",
      "    + Jessi\n",
      "    + Fay Tang\n",
      "    + Bret Gaulin\n",
      "    + Amit Arora\n",
      "    + Jose R Arocho\n",
      "\n",
      "  - Domains:\n",
      "    + Finance/Banking: 4\n",
      "    + Health Care/Medicine: 2\n",
      "    + Communication Networks (i work specifically in the area of satellite networks): 1\n",
      "    + Government/Social Data: 1\n",
      "\n",
      "  - Project Types:\n",
      "    + Visualization/Visual Analytics: 5\n",
      "    + Clustering or Classification: 4\n",
      "    + Statistical Modeling for Forecasting: 4\n",
      "    + Rule/Association Mining: 4\n",
      "    + Network Analysis: 3\n",
      "    + Time Series Analysis: 3\n",
      "    + Regression Analysis: 2\n",
      "    + Text Analysis/Natural Language Processing: 2\n",
      "\n"
     ]
    }
   ],
   "source": [
    "print print_report(2)"
   ]
  },
  {
   "cell_type": "code",
   "execution_count": 46,
   "metadata": {
    "collapsed": false
   },
   "outputs": [
    {
     "name": "stdout",
     "output_type": "stream",
     "text": [
      "Team 3 Selection Report\n",
      "-----------------------\n",
      "\n",
      "  * Coordinator: Mai Huynh\n",
      "\n",
      "  * Mean Python Level: 2.0\n",
      "  * Mean R Level: 1.8\n",
      "  * Mean CLI Level: 3.2\n",
      "  * Mean Project Level: 1.8\n",
      "\n",
      "  - Members:\n",
      "    + Mark Kindig\n",
      "    + Mai Huynh\n",
      "    + Ed Gilliland\n",
      "    + Lisa Federer\n",
      "    + Jan Spoor\n",
      "\n",
      "  - Domains:\n",
      "    + Government/Social Data: 4\n",
      "    + Health Care/Medicine: 3\n",
      "    + Education: 2\n",
      "    + Transportation: 1\n",
      "    + Retail/Industry: 1\n",
      "    + Energy: 1\n",
      "    + Real Estate: 1\n",
      "    + Finance/Banking: 1\n",
      "    + history: 1\n",
      "\n",
      "  - Project Types:\n",
      "    + Time Series Analysis: 4\n",
      "    + Visualization/Visual Analytics: 3\n",
      "    + Statistical Modeling for Forecasting: 3\n",
      "    + Network Analysis: 2\n",
      "    + Clustering or Classification: 2\n",
      "    + : 1\n",
      "    + Regression Analysis: 1\n",
      "    + Text Analysis/Natural Language Processing: 1\n",
      "    + Rule/Association Mining: 1\n",
      "\n"
     ]
    }
   ],
   "source": [
    "print print_report(3)"
   ]
  },
  {
   "cell_type": "code",
   "execution_count": 47,
   "metadata": {
    "collapsed": false
   },
   "outputs": [
    {
     "name": "stdout",
     "output_type": "stream",
     "text": [
      "Team 4 Selection Report\n",
      "-----------------------\n",
      "\n",
      "  * Coordinator: Jennifer Lubkin Chavez\n",
      "\n",
      "  * Mean Python Level: 1.75\n",
      "  * Mean R Level: 1.0\n",
      "  * Mean CLI Level: 1.75\n",
      "  * Mean Project Level: 3.25\n",
      "\n",
      "  - Members:\n",
      "    + Jennifer Lubkin Chavez\n",
      "    + Joel Haas\n",
      "    + Michael Brown\n",
      "    + Carmen Smiley\n",
      "\n",
      "  - Domains:\n",
      "    + Government/Social Data: 4\n",
      "    + Health Care/Medicine: 3\n",
      "    + Education: 2\n",
      "    + Anything social science-y: 1\n",
      "    + Transportation: 1\n",
      "    + Finance/Banking: 1\n",
      "\n",
      "  - Project Types:\n",
      "    + Visualization/Visual Analytics: 4\n",
      "    + Text Analysis/Natural Language Processing: 3\n",
      "    + Network Analysis: 2\n",
      "    + Regression Analysis: 2\n",
      "    + Clustering or Classification: 2\n",
      "    + Time Series Analysis: 1\n",
      "    + Statistical Modeling for Forecasting: 1\n",
      "    + Rule/Association Mining: 1\n",
      "\n"
     ]
    }
   ],
   "source": [
    "print print_report(4)"
   ]
  },
  {
   "cell_type": "code",
   "execution_count": 48,
   "metadata": {
    "collapsed": false
   },
   "outputs": [
    {
     "name": "stdout",
     "output_type": "stream",
     "text": [
      "Team 5 Selection Report\n",
      "-----------------------\n",
      "\n",
      "  * Coordinator: Monique Bates\n",
      "\n",
      "  * Mean Python Level: 4.6\n",
      "  * Mean R Level: 3.8\n",
      "  * Mean CLI Level: 4.2\n",
      "  * Mean Project Level: 3.4\n",
      "\n",
      "  - Members:\n",
      "    + Monique Bates\n",
      "    + Ben Kean\n",
      "    + Max Almodovar\n",
      "    + Brandon Harris\n",
      "    + Jenny Wang\n",
      "\n",
      "  - Domains:\n",
      "    + Transportation: 4\n",
      "    + Sports: 4\n",
      "    + Energy: 3\n",
      "    + Finance/Banking: 3\n",
      "    + Government/Social Data: 3\n",
      "    + Anything interfacing with a computer: 1\n",
      "    + Retail/Industry: 1\n",
      "    + Security: 1\n",
      "    + Technology: 1\n",
      "    + Health Care/Medicine: 1\n",
      "    + Mobile Apps: 1\n",
      "    + Education: 1\n",
      "    + Agriculture: 1\n",
      "\n",
      "  - Project Types:\n",
      "    + Visualization/Visual Analytics: 4\n",
      "    + Statistical Modeling for Forecasting: 4\n",
      "    + Time Series Analysis: 3\n",
      "    + Network Analysis: 2\n",
      "    + Regression Analysis: 2\n",
      "    + Clustering or Classification: 2\n",
      "    + Text Analysis/Natural Language Processing: 2\n",
      "    + Rule/Association Mining: 2\n",
      "    + Preference ranking systems: 1\n",
      "    + Recommendation systems: 1\n",
      "    + Data products thats related to how technology can improve our lives: 1\n",
      "\n"
     ]
    }
   ],
   "source": [
    "print print_report(5)"
   ]
  },
  {
   "cell_type": "code",
   "execution_count": 49,
   "metadata": {
    "collapsed": false
   },
   "outputs": [
    {
     "name": "stdout",
     "output_type": "stream",
     "text": [
      "Team 6 Selection Report\n",
      "-----------------------\n",
      "\n",
      "  * Coordinator: Jawad Syedain\n",
      "\n",
      "  * Mean Python Level: 1.75\n",
      "  * Mean R Level: 0.75\n",
      "  * Mean CLI Level: 1.75\n",
      "  * Mean Project Level: 2.0\n",
      "\n",
      "  - Members:\n",
      "    + Jawad Syedain\n",
      "    + Kyle Rossetti\n",
      "    + Melissa Carson\n",
      "    + Andrea Wise\n",
      "\n",
      "  - Domains:\n",
      "    + Government/Social Data: 4\n",
      "    + Sports: 2\n",
      "    + Energy: 1\n",
      "    + Security: 1\n",
      "    + Education: 1\n",
      "\n",
      "  - Project Types:\n",
      "    + Statistical Modeling for Forecasting: 3\n",
      "    + Visualization/Visual Analytics: 2\n",
      "    + Regression Analysis: 1\n",
      "    + Text Analysis/Natural Language Processing: 1\n",
      "    + : 1\n",
      "\n"
     ]
    }
   ],
   "source": [
    "print print_report(6)"
   ]
  },
  {
   "cell_type": "code",
   "execution_count": 50,
   "metadata": {
    "collapsed": false
   },
   "outputs": [
    {
     "name": "stdout",
     "output_type": "stream",
     "text": [
      "Team 7 Selection Report\n",
      "-----------------------\n",
      "\n",
      "  * Coordinator: Jonathan Creem\n",
      "\n",
      "  * Mean Python Level: 3.4\n",
      "  * Mean R Level: 3.8\n",
      "  * Mean CLI Level: 4.8\n",
      "  * Mean Project Level: 3.2\n",
      "\n",
      "  - Members:\n",
      "    + Andrew Miller\n",
      "    + Jonathan Creem\n",
      "    + Michael Ebanks\n",
      "    + Caroline Morris\n",
      "    + Max Almodovar\n",
      "\n",
      "  - Domains:\n",
      "    + Government/Social Data: 4\n",
      "    + Finance/Banking: 4\n",
      "    + Security: 2\n",
      "    + Transportation: 1\n",
      "    + Retail/Industry: 1\n",
      "    + Labor/Wages: 1\n",
      "    + Health Care/Medicine: 1\n",
      "    + Sports: 1\n",
      "\n",
      "  - Project Types:\n",
      "    + Regression Analysis: 4\n",
      "    + Clustering or Classification: 4\n",
      "    + Statistical Modeling for Forecasting: 4\n",
      "    + Time Series Analysis: 3\n",
      "    + Visualization/Visual Analytics: 2\n",
      "    + Text Analysis/Natural Language Processing: 2\n",
      "    + Network Analysis: 1\n",
      "    + Rule/Association Mining: 1\n",
      "\n"
     ]
    }
   ],
   "source": [
    "print print_report(7)"
   ]
  }
 ],
 "metadata": {
  "kernelspec": {
   "display_name": "Python 2",
   "language": "python",
   "name": "python2"
  },
  "language_info": {
   "codemirror_mode": {
    "name": "ipython",
    "version": 2
   },
   "file_extension": ".py",
   "mimetype": "text/x-python",
   "name": "python",
   "nbconvert_exporter": "python",
   "pygments_lexer": "ipython2",
   "version": "2.7.10"
  }
 },
 "nbformat": 4,
 "nbformat_minor": 0
}
